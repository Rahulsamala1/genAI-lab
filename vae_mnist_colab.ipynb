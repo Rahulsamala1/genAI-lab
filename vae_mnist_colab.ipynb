{
  "cells": [
    {
      "cell_type": "markdown",
      "metadata": {
        "id": "view-in-github",
        "colab_type": "text"
      },
      "source": [
        "<a href=\"https://colab.research.google.com/github/Rahulsamala1/genAI-lab/blob/dev/vae_mnist_colab.ipynb\" target=\"_parent\"><img src=\"https://colab.research.google.com/assets/colab-badge.svg\" alt=\"Open In Colab\"/></a>"
      ]
    },
    {
      "cell_type": "markdown",
      "id": "45405b35",
      "metadata": {
        "id": "45405b35"
      },
      "source": [
        "# 🧠 Variational Autoencoder (VAE) on MNIST\n",
        "A simple intro-level PyTorch implementation"
      ]
    },
    {
      "cell_type": "code",
      "execution_count": null,
      "id": "ae3f03ab",
      "metadata": {
        "id": "ae3f03ab"
      },
      "outputs": [],
      "source": [
        "\n",
        "import torch\n",
        "import torch.nn as nn\n",
        "import torch.nn.functional as F\n",
        "import torchvision\n",
        "from torchvision import datasets, transforms\n",
        "from torch.utils.data import DataLoader\n",
        "import matplotlib.pyplot as plt\n"
      ]
    },
    {
      "cell_type": "code",
      "execution_count": null,
      "id": "c4557dde",
      "metadata": {
        "id": "c4557dde"
      },
      "outputs": [],
      "source": [
        "\n",
        "device = torch.device(\"cuda\" if torch.cuda.is_available() else \"cpu\")\n",
        "transform = transforms.ToTensor()\n",
        "train_data = datasets.MNIST(root='./data', train=True, download=True, transform=transform)\n",
        "train_loader = DataLoader(train_data, batch_size=128, shuffle=True)\n"
      ]
    },
    {
      "cell_type": "code",
      "execution_count": null,
      "id": "092e9c8a",
      "metadata": {
        "id": "092e9c8a"
      },
      "outputs": [],
      "source": [
        "\n",
        "class VAE(nn.Module):\n",
        "    def __init__(self):\n",
        "        super(VAE, self).__init__()\n",
        "        self.fc1 = nn.Linear(28*28, 400)\n",
        "        self.fc21 = nn.Linear(400, 20)  # Mean\n",
        "        self.fc22 = nn.Linear(400, 20)  # Log variance\n",
        "        self.fc3 = nn.Linear(20, 400)\n",
        "        self.fc4 = nn.Linear(400, 28*28)\n",
        "\n",
        "    def encode(self, x):\n",
        "        h1 = F.relu(self.fc1(x))\n",
        "        return self.fc21(h1), self.fc22(h1)\n",
        "\n",
        "    def reparameterize(self, mu, logvar):\n",
        "        std = torch.exp(0.5*logvar)\n",
        "        eps = torch.randn_like(std)\n",
        "        return mu + eps*std\n",
        "\n",
        "    def decode(self, z):\n",
        "        h3 = F.relu(self.fc3(z))\n",
        "        return torch.sigmoid(self.fc4(h3))\n",
        "\n",
        "    def forward(self, x):\n",
        "        mu, logvar = self.encode(x.view(-1, 28*28))\n",
        "        z = self.reparameterize(mu, logvar)\n",
        "        return self.decode(z), mu, logvar\n"
      ]
    },
    {
      "cell_type": "code",
      "execution_count": null,
      "id": "437428ec",
      "metadata": {
        "id": "437428ec"
      },
      "outputs": [],
      "source": [
        "\n",
        "def loss_function(recon_x, x, mu, logvar):\n",
        "    BCE = F.binary_cross_entropy(recon_x, x.view(-1, 28*28), reduction='sum')\n",
        "    KLD = -0.5 * torch.sum(1 + logvar - mu.pow(2) - logvar.exp())\n",
        "    return BCE + KLD\n"
      ]
    },
    {
      "cell_type": "code",
      "execution_count": null,
      "id": "fe34ebf6",
      "metadata": {
        "id": "fe34ebf6"
      },
      "outputs": [],
      "source": [
        "\n",
        "model = VAE().to(device)\n",
        "optimizer = torch.optim.Adam(model.parameters(), lr=1e-3)\n",
        "\n",
        "def train(epoch):\n",
        "    model.train()\n",
        "    train_loss = 0\n",
        "    for batch_idx, (data, _) in enumerate(train_loader):\n",
        "        data = data.to(device)\n",
        "        optimizer.zero_grad()\n",
        "        recon_batch, mu, logvar = model(data)\n",
        "        loss = loss_function(recon_batch, data, mu, logvar)\n",
        "        loss.backward()\n",
        "        train_loss += loss.item()\n",
        "        optimizer.step()\n",
        "    print(f'Epoch {epoch}, Loss: {train_loss / len(train_loader.dataset):.4f}')\n",
        "\n",
        "for epoch in range(1, 6):  # 5 epochs\n",
        "    train(epoch)\n"
      ]
    },
    {
      "cell_type": "code",
      "execution_count": null,
      "id": "f73f16bc",
      "metadata": {
        "id": "f73f16bc"
      },
      "outputs": [],
      "source": [
        "\n",
        "# 🖼 Generate New Digits\n",
        "with torch.no_grad():\n",
        "    z = torch.randn(64, 20).to(device)\n",
        "    sample = model.decode(z).cpu()\n",
        "    sample = sample.view(64, 1, 28, 28)\n",
        "\n",
        "    grid = torchvision.utils.make_grid(sample, nrow=8)\n",
        "    plt.figure(figsize=(8,8))\n",
        "    plt.imshow(grid.permute(1, 2, 0).squeeze(), cmap='gray')\n",
        "    plt.title('Generated Digits')\n",
        "    plt.axis('off')\n",
        "    plt.show()\n"
      ]
    }
  ],
  "metadata": {
    "colab": {
      "provenance": [],
      "include_colab_link": true
    }
  },
  "nbformat": 4,
  "nbformat_minor": 5
}