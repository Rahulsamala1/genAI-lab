{
  "cells": [
    {
      "cell_type": "markdown",
      "metadata": {
        "id": "view-in-github",
        "colab_type": "text"
      },
      "source": [
        "<a href=\"https://colab.research.google.com/github/Rahulsamala1/genAI-lab/blob/dev/GAN/gan_mnist_colab.ipynb\" target=\"_parent\"><img src=\"https://colab.research.google.com/assets/colab-badge.svg\" alt=\"Open In Colab\"/></a>"
      ]
    },
    {
      "cell_type": "markdown",
      "id": "182962a6",
      "metadata": {
        "id": "182962a6"
      },
      "source": [
        "# 🎭 Simple GAN on MNIST\n",
        "Train a basic GAN to generate handwritten digits!"
      ]
    },
    {
      "cell_type": "code",
      "execution_count": null,
      "id": "f838f80f",
      "metadata": {
        "id": "f838f80f"
      },
      "outputs": [],
      "source": [
        "\n",
        "import torch\n",
        "import torch.nn as nn\n",
        "import torch.optim as optim\n",
        "import torchvision\n",
        "from torchvision import datasets, transforms\n",
        "from torch.utils.data import DataLoader\n",
        "import matplotlib.pyplot as plt\n",
        "import numpy as np\n"
      ]
    },
    {
      "cell_type": "code",
      "execution_count": null,
      "id": "96359ae8",
      "metadata": {
        "id": "96359ae8"
      },
      "outputs": [],
      "source": [
        "\n",
        "transform = transforms.Compose([\n",
        "    transforms.ToTensor(),\n",
        "    transforms.Normalize((0.5,), (0.5,))\n",
        "])\n",
        "\n",
        "train_data = datasets.MNIST(root='./data', train=True, download=True, transform=transform)\n",
        "train_loader = DataLoader(train_data, batch_size=128, shuffle=True)\n",
        "\n",
        "device = torch.device(\"cuda\" if torch.cuda.is_available() else \"cpu\")\n"
      ]
    },
    {
      "cell_type": "code",
      "execution_count": null,
      "id": "b1ebd81c",
      "metadata": {
        "id": "b1ebd81c"
      },
      "outputs": [],
      "source": [
        "\n",
        "class Generator(nn.Module):\n",
        "    def __init__(self):\n",
        "        super(Generator, self).__init__()\n",
        "        self.model = nn.Sequential(\n",
        "            nn.Linear(100, 256),\n",
        "            nn.ReLU(True),\n",
        "            nn.Linear(256, 512),\n",
        "            nn.ReLU(True),\n",
        "            nn.Linear(512, 1024),\n",
        "            nn.ReLU(True),\n",
        "            nn.Linear(1024, 28*28),\n",
        "            nn.Tanh()\n",
        "        )\n",
        "\n",
        "    def forward(self, z):\n",
        "        return self.model(z).view(-1, 1, 28, 28)\n"
      ]
    },
    {
      "cell_type": "code",
      "execution_count": null,
      "id": "453dd19f",
      "metadata": {
        "id": "453dd19f"
      },
      "outputs": [],
      "source": [
        "\n",
        "class Discriminator(nn.Module):\n",
        "    def __init__(self):\n",
        "        super(Discriminator, self).__init__()\n",
        "        self.model = nn.Sequential(\n",
        "            nn.Linear(28*28, 512),\n",
        "            nn.LeakyReLU(0.2),\n",
        "            nn.Linear(512, 256),\n",
        "            nn.LeakyReLU(0.2),\n",
        "            nn.Linear(256, 1),\n",
        "            nn.Sigmoid()\n",
        "        )\n",
        "\n",
        "    def forward(self, x):\n",
        "        return self.model(x.view(-1, 28*28))\n"
      ]
    },
    {
      "cell_type": "code",
      "execution_count": null,
      "id": "d6147eaa",
      "metadata": {
        "id": "d6147eaa"
      },
      "outputs": [],
      "source": [
        "\n",
        "G = Generator().to(device)\n",
        "D = Discriminator().to(device)\n",
        "\n",
        "loss_fn = nn.BCELoss()\n",
        "optimizer_G = optim.Adam(G.parameters(), lr=0.0002)\n",
        "optimizer_D = optim.Adam(D.parameters(), lr=0.0002)\n"
      ]
    },
    {
      "cell_type": "code",
      "execution_count": null,
      "id": "593c591d",
      "metadata": {
        "id": "593c591d"
      },
      "outputs": [],
      "source": [
        "\n",
        "epochs = 20\n",
        "for epoch in range(epochs):\n",
        "    for real_imgs, _ in train_loader:\n",
        "        real_imgs = real_imgs.to(device)\n",
        "        batch_size = real_imgs.size(0)\n",
        "\n",
        "        # Real labels\n",
        "        real_labels = torch.ones(batch_size, 1).to(device)\n",
        "        fake_labels = torch.zeros(batch_size, 1).to(device)\n",
        "\n",
        "        # Train Discriminator\n",
        "        optimizer_D.zero_grad()\n",
        "        outputs_real = D(real_imgs)\n",
        "        loss_real = loss_fn(outputs_real, real_labels)\n",
        "\n",
        "        z = torch.randn(batch_size, 100).to(device)\n",
        "        fake_imgs = G(z)\n",
        "        outputs_fake = D(fake_imgs.detach())\n",
        "        loss_fake = loss_fn(outputs_fake, fake_labels)\n",
        "\n",
        "        loss_D = loss_real + loss_fake\n",
        "        loss_D.backward()\n",
        "        optimizer_D.step()\n",
        "\n",
        "        # Train Generator\n",
        "        optimizer_G.zero_grad()\n",
        "        z = torch.randn(batch_size, 100).to(device)\n",
        "        fake_imgs = G(z)\n",
        "        outputs = D(fake_imgs)\n",
        "        loss_G = loss_fn(outputs, real_labels)\n",
        "        loss_G.backward()\n",
        "        optimizer_G.step()\n",
        "\n",
        "    print(f\"Epoch [{epoch+1}/{epochs}] Loss D: {loss_D.item():.4f}, Loss G: {loss_G.item():.4f}\")\n"
      ]
    },
    {
      "cell_type": "code",
      "execution_count": null,
      "id": "ade08db8",
      "metadata": {
        "id": "ade08db8"
      },
      "outputs": [],
      "source": [
        "\n",
        "# Generate and display images\n",
        "G.eval()\n",
        "z = torch.randn(64, 100).to(device)\n",
        "fake_imgs = G(z).cpu().detach()\n",
        "\n",
        "grid = torchvision.utils.make_grid(fake_imgs, nrow=8, normalize=True)\n",
        "plt.figure(figsize=(8,8))\n",
        "plt.imshow(np.transpose(grid, (1, 2, 0)))\n",
        "plt.title(\"Generated Digits by GAN\")\n",
        "plt.axis('off')\n",
        "plt.show()\n"
      ]
    }
  ],
  "metadata": {
    "colab": {
      "provenance": [],
      "include_colab_link": true
    }
  },
  "nbformat": 4,
  "nbformat_minor": 5
}